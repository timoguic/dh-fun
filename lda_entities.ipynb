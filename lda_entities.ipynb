{
 "cells": [
  {
   "cell_type": "markdown",
   "id": "933cc5a3",
   "metadata": {},
   "source": [
    "### On télécharge les entités depuis Anthologia"
   ]
  },
  {
   "cell_type": "code",
   "execution_count": 3,
   "id": "8874c841",
   "metadata": {},
   "outputs": [],
   "source": [
    "import requests\n",
    "entities = requests.get('https://anthologia.ecrituresnumeriques.ca/api/v1/entities/').json()"
   ]
  },
  {
   "cell_type": "markdown",
   "id": "c1954c08",
   "metadata": {},
   "source": [
    "### On va enlever la ponctuation"
   ]
  },
  {
   "cell_type": "code",
   "execution_count": 6,
   "id": "e0f8a8bb",
   "metadata": {},
   "outputs": [],
   "source": [
    "import string\n",
    "def clean(text):\n",
    "    return \"\".join([\n",
    "        c for c in text\n",
    "        if c not in string.punctuation\n",
    "    ]).lower()"
   ]
  },
  {
   "cell_type": "markdown",
   "id": "281e68d8",
   "metadata": {},
   "source": [
    "### Nettoyage avec la fonction clean + récupération d'un tuple (titre, texte)"
   ]
  },
  {
   "cell_type": "code",
   "execution_count": 7,
   "id": "6477ca99",
   "metadata": {},
   "outputs": [],
   "source": [
    "texts = list()\n",
    "for entity in entities:\n",
    "    for version in entity['versions']:\n",
    "        if version['id_language'] == 3: \n",
    "            if 'Iliad' not in entity['title']: # l'iliade fait bcp de bruit!\n",
    "                text = clean(version['text_translated'])\n",
    "                title = entity['title']\n",
    "                texts.append((title, text))"
   ]
  },
  {
   "cell_type": "markdown",
   "id": "052ceeb8",
   "metadata": {},
   "source": [
    "### On nettoie les textes (token + lem)\n",
    "\n",
    "On enlève les stopwords et on  ne garde que les tokens de plus de 3 lettres"
   ]
  },
  {
   "cell_type": "code",
   "execution_count": 63,
   "id": "d334b3fe",
   "metadata": {},
   "outputs": [
    {
     "name": "stderr",
     "output_type": "stream",
     "text": [
      "[nltk_data] Downloading package wordnet to /home/timg/nltk_data...\n",
      "[nltk_data]   Package wordnet is already up-to-date!\n"
     ]
    }
   ],
   "source": [
    "import nltk\n",
    "import gensim\n",
    "from nltk.stem import SnowballStemmer, WordNetLemmatizer\n",
    "\n",
    "# Au cas où je sais jamais trop\n",
    "nltk.download('wordnet')\n",
    "\n",
    "stemmer = SnowballStemmer(\"english\")\n",
    "\n",
    "def lem_stem(text):\n",
    "    lems = WordNetLemmatizer().lemmatize(text, pos='v')\n",
    "    return stemmer.stem(lems)\n",
    "\n",
    "def preprocess(text):\n",
    "    result = []\n",
    "    for token in gensim.utils.simple_preprocess(text):\n",
    "        if token not in gensim.parsing.preprocessing.STOPWORDS and len(token) > 3:\n",
    "            result.append(lem_stem(token))\n",
    "    return result\n",
    "\n",
    "# Nettoyage (le texte est le deuxième élément du tuple)\n",
    "processed = [preprocess(text[1]) for text in texts]\n"
   ]
  },
  {
   "cell_type": "markdown",
   "id": "6de384dd",
   "metadata": {},
   "source": [
    "### On se fait un dictionnaire de mots\n",
    "\n",
    "On garde 10.000 tokens, et on ne garde que ceux qui apparaissent dans plus de 5 documents et ne représentent pas plus de 50% du corpus total (https://tedboy.github.io/nlps/generated/generated/gensim.corpora.Dictionary.filter_extremes.html)"
   ]
  },
  {
   "cell_type": "code",
   "execution_count": 22,
   "id": "9afb5852",
   "metadata": {},
   "outputs": [],
   "source": [
    "dictionary = gensim.corpora.Dictionary(processed)\n",
    "dictionary.filter_extremes(no_below=5, no_above=0.5, keep_n=10000)\n",
    "corpus = [dictionary.doc2bow(doc) for doc in processed]"
   ]
  },
  {
   "cell_type": "markdown",
   "id": "951da98b",
   "metadata": {},
   "source": [
    "### On fait le LDA (10 topics)"
   ]
  },
  {
   "cell_type": "code",
   "execution_count": 23,
   "id": "2299947b",
   "metadata": {},
   "outputs": [],
   "source": [
    "lda_model = gensim.models.LdaMulticore(corpus, num_topics=10, id2word=dictionary, passes=2, workers=2)"
   ]
  },
  {
   "cell_type": "markdown",
   "id": "cf28320f",
   "metadata": {},
   "source": [
    "### Voilà les topics"
   ]
  },
  {
   "cell_type": "code",
   "execution_count": 28,
   "id": "c89b7d27",
   "metadata": {},
   "outputs": [
    {
     "name": "stdout",
     "output_type": "stream",
     "text": [
      "0 0.013*\"hade\" + 0.013*\"love\" + 0.012*\"tomb\" + 0.010*\"muse\" + 0.009*\"ship\" + 0.009*\"tell\" + 0.008*\"great\" + 0.008*\"earth\" + 0.008*\"land\" + 0.007*\"shall\"\n",
      "1 0.031*\"thou\" + 0.018*\"death\" + 0.014*\"thee\" + 0.011*\"tomb\" + 0.010*\"earth\" + 0.010*\"father\" + 0.010*\"come\" + 0.007*\"eye\" + 0.007*\"love\" + 0.007*\"hand\"\n",
      "2 0.017*\"grace\" + 0.013*\"wisdom\" + 0.012*\"muse\" + 0.010*\"love\" + 0.009*\"sweet\" + 0.009*\"leav\" + 0.009*\"hold\" + 0.009*\"hous\" + 0.008*\"countri\" + 0.007*\"word\"\n",
      "3 0.015*\"shall\" + 0.014*\"thou\" + 0.011*\"tomb\" + 0.010*\"love\" + 0.009*\"know\" + 0.009*\"thee\" + 0.009*\"littl\" + 0.008*\"christ\" + 0.008*\"light\" + 0.008*\"earth\"\n",
      "4 0.028*\"thou\" + 0.018*\"tomb\" + 0.015*\"life\" + 0.012*\"didst\" + 0.012*\"know\" + 0.011*\"love\" + 0.009*\"thee\" + 0.009*\"father\" + 0.009*\"leav\" + 0.008*\"sweet\"\n",
      "5 0.019*\"come\" + 0.013*\"bring\" + 0.009*\"love\" + 0.009*\"tomb\" + 0.009*\"land\" + 0.008*\"thou\" + 0.008*\"dead\" + 0.008*\"say\" + 0.007*\"life\" + 0.007*\"shall\"\n",
      "6 0.014*\"love\" + 0.013*\"death\" + 0.012*\"like\" + 0.011*\"life\" + 0.011*\"look\" + 0.011*\"hade\" + 0.010*\"tomb\" + 0.010*\"leav\" + 0.009*\"say\" + 0.008*\"shall\"\n",
      "7 0.014*\"tomb\" + 0.012*\"love\" + 0.011*\"die\" + 0.009*\"leav\" + 0.007*\"longer\" + 0.007*\"earth\" + 0.007*\"thou\" + 0.007*\"come\" + 0.006*\"soul\" + 0.006*\"stranger\"\n",
      "8 0.028*\"thee\" + 0.022*\"thou\" + 0.017*\"mother\" + 0.012*\"dead\" + 0.012*\"love\" + 0.011*\"tomb\" + 0.009*\"hade\" + 0.009*\"mourn\" + 0.008*\"father\" + 0.008*\"tear\"\n",
      "9 0.042*\"thou\" + 0.027*\"tomb\" + 0.016*\"love\" + 0.016*\"thee\" + 0.011*\"dead\" + 0.008*\"life\" + 0.008*\"earth\" + 0.007*\"live\" + 0.007*\"tell\" + 0.007*\"drink\"\n"
     ]
    }
   ],
   "source": [
    "for topic_id, formula in lda_model.print_topics():\n",
    "    print(topic_id, formula)"
   ]
  },
  {
   "cell_type": "markdown",
   "id": "b8e6df50",
   "metadata": {},
   "source": [
    "### Exemple: le texte d'indice 10"
   ]
  },
  {
   "cell_type": "code",
   "execution_count": 30,
   "id": "e0710d67",
   "metadata": {},
   "outputs": [
    {
     "data": {
      "text/plain": [
       "[(0, 0.011116129),\n",
       " (1, 0.01111522),\n",
       " (2, 0.01111491),\n",
       " (3, 0.32559255),\n",
       " (4, 0.011115691),\n",
       " (5, 0.011115616),\n",
       " (6, 0.011115945),\n",
       " (7, 0.01111543),\n",
       " (8, 0.5854838),\n",
       " (9, 0.01111472)]"
      ]
     },
     "execution_count": 30,
     "metadata": {},
     "output_type": "execute_result"
    }
   ],
   "source": [
    "lda_model[corpus[10]]"
   ]
  },
  {
   "cell_type": "code",
   "execution_count": 40,
   "id": "10d96299",
   "metadata": {},
   "outputs": [
    {
     "name": "stdout",
     "output_type": "stream",
     "text": [
      "### Greek Anthology 5.11\n",
      "Topic: 0 frequency 0.011116623\n",
      "Topic: 1 frequency 0.011115267\n",
      "Topic: 2 frequency 0.01111529\n",
      "Topic: 3 frequency 0.011116812\n",
      "Topic: 4 frequency 0.011116303\n",
      "Topic: 5 frequency 0.011115572\n",
      "Topic: 6 frequency 0.011115847\n",
      "Topic: 7 frequency 0.011115566\n",
      "Topic: 8 frequency 0.8999579\n",
      "Topic: 9 frequency 0.011114866\n"
     ]
    }
   ],
   "source": [
    "print(\"###\", texts[10][0])\n",
    "\n",
    "for topic_id, frequency in lda_model[corpus[10]]:\n",
    "    print(\"Topic:\", topic_id, \"frequency\", frequency)"
   ]
  },
  {
   "cell_type": "markdown",
   "id": "dc0f225b",
   "metadata": {},
   "source": [
    "### On peut regarder à quoi correspond chaque topic (ici on va regarder le 8)"
   ]
  },
  {
   "cell_type": "code",
   "execution_count": 41,
   "id": "14fec6c4",
   "metadata": {},
   "outputs": [
    {
     "name": "stdout",
     "output_type": "stream",
     "text": [
      "Word ID 102 frequency 0.028270947\n",
      "Word ID 78 frequency 0.021564493\n",
      "Word ID 508 frequency 0.016795695\n",
      "Word ID 268 frequency 0.011849673\n",
      "Word ID 5 frequency 0.0116985785\n",
      "Word ID 420 frequency 0.011032931\n",
      "Word ID 456 frequency 0.009328718\n",
      "Word ID 137 frequency 0.008845457\n",
      "Word ID 450 frequency 0.008167612\n",
      "Word ID 171 frequency 0.008004178\n"
     ]
    }
   ],
   "source": [
    "for word_id, frequency in lda_model.get_topic_terms(8):\n",
    "    print(\"Word ID\", word_id, \"frequency\", frequency)"
   ]
  },
  {
   "cell_type": "code",
   "execution_count": 42,
   "id": "940b3aba",
   "metadata": {},
   "outputs": [
    {
     "name": "stdout",
     "output_type": "stream",
     "text": [
      "Word: thee frequency 0.028270947\n",
      "Word: thou frequency 0.021564493\n",
      "Word: mother frequency 0.016795695\n",
      "Word: dead frequency 0.011849673\n",
      "Word: love frequency 0.0116985785\n",
      "Word: tomb frequency 0.011032931\n",
      "Word: hade frequency 0.009328718\n",
      "Word: mourn frequency 0.008845457\n",
      "Word: father frequency 0.008167612\n",
      "Word: tear frequency 0.008004178\n"
     ]
    }
   ],
   "source": [
    "for word_id, frequency in lda_model.get_topic_terms(8):\n",
    "    print(\"Word:\", dictionary[word_id], \"frequency\", frequency)"
   ]
  },
  {
   "cell_type": "code",
   "execution_count": 46,
   "id": "e3e32048",
   "metadata": {},
   "outputs": [
    {
     "data": {
      "text/plain": [
       "(8,\n",
       " '0.028*\"thee\" + 0.022*\"thou\" + 0.017*\"mother\" + 0.012*\"dead\" + 0.012*\"love\" + 0.011*\"tomb\" + 0.009*\"hade\" + 0.009*\"mourn\" + 0.008*\"father\" + 0.008*\"tear\"')"
      ]
     },
     "execution_count": 46,
     "metadata": {},
     "output_type": "execute_result"
    }
   ],
   "source": [
    "# Relativement équivalent: texte indice 10, topic indice 8\n",
    "lda_model.print_topics(10)[8]"
   ]
  },
  {
   "cell_type": "markdown",
   "id": "66f9635c",
   "metadata": {},
   "source": [
    "### Faisons un joli dessin"
   ]
  },
  {
   "cell_type": "markdown",
   "id": "741a9768",
   "metadata": {},
   "source": [
    "#### On commence par l'axe des X: la liste des topics\n",
    "\n",
    "Ici je joins tous les mots du topic avec des , (je perds la fréquence mais c'est ordonné en décroissant).\n",
    "J'obtiens une liste, dont chaque élément contient une liste de mots séparés par des , (mais c'est une seule chaîne)."
   ]
  },
  {
   "cell_type": "code",
   "execution_count": 49,
   "id": "9322e372",
   "metadata": {},
   "outputs": [
    {
     "data": {
      "text/plain": [
       "['hade,love,tomb,muse,ship,tell,great,earth,land,shall',\n",
       " 'thou,death,thee,tomb,earth,father,come,eye,love,hand',\n",
       " 'grace,wisdom,muse,love,sweet,leav,hold,hous,countri,word',\n",
       " 'shall,thou,tomb,love,know,thee,littl,christ,light,earth',\n",
       " 'thou,tomb,life,didst,know,love,thee,father,leav,sweet',\n",
       " 'come,bring,love,tomb,land,thou,dead,say,life,shall',\n",
       " 'love,death,like,life,look,hade,tomb,leav,say,shall',\n",
       " 'tomb,love,die,leav,longer,earth,thou,come,soul,stranger',\n",
       " 'thee,thou,mother,dead,love,tomb,hade,mourn,father,tear',\n",
       " 'thou,tomb,love,thee,dead,life,earth,live,tell,drink']"
      ]
     },
     "execution_count": 49,
     "metadata": {},
     "output_type": "execute_result"
    }
   ],
   "source": [
    "xlabels = [\n",
    "        \",\".join(\n",
    "            [\n",
    "                dictionary[word_id]\n",
    "                for word_id, freq in lda_model.get_topic_terms(topic_id)\n",
    "            ]\n",
    "        )\n",
    "        for topic_id in range(lda_model.num_topics)\n",
    "    ]\n",
    "xlabels"
   ]
  },
  {
   "cell_type": "markdown",
   "id": "ab1f7f2a",
   "metadata": {},
   "source": [
    "J'ai la liste des mots pour chaque topic."
   ]
  },
  {
   "cell_type": "markdown",
   "id": "fe4bff3d",
   "metadata": {},
   "source": [
    "#### Axe des Y: les textes (on  prend les titres)"
   ]
  },
  {
   "cell_type": "code",
   "execution_count": 64,
   "id": "8873f663",
   "metadata": {},
   "outputs": [
    {
     "data": {
      "text/plain": [
       "['Greek Anthology 5.6',\n",
       " 'Greek Anthology 4.1',\n",
       " 'Greek Anthology 5.3',\n",
       " 'Greek Anthology 5.4',\n",
       " 'Greek Anthology 5.5']"
      ]
     },
     "execution_count": 64,
     "metadata": {},
     "output_type": "execute_result"
    }
   ],
   "source": [
    "ylabels = [t[0] for t in texts]\n",
    "ylabels[:5] # Juste pour voir"
   ]
  },
  {
   "cell_type": "markdown",
   "id": "6cd39477",
   "metadata": {},
   "source": [
    "#### Très bien. On va construire un dataframe avec pandas\n",
    "\n",
    "Ce sera une matrice 2D - topics en colonnes, et textes en lignes. Chaque \"case\" contient la fréquence de ce topic dans le texte correspondant. On commence par faire une matrice remplie de zéros."
   ]
  },
  {
   "cell_type": "code",
   "execution_count": 57,
   "id": "9af27bab",
   "metadata": {},
   "outputs": [],
   "source": [
    "import numpy as np\n",
    "from pandas import DataFrame as DF\n",
    "\n",
    "heatmap = DF(\n",
    "        np.zeros([len(processed), lda_model.num_topics]),\n",
    "        columns=xlabels,\n",
    "        index=ylabels,\n",
    "    )"
   ]
  },
  {
   "cell_type": "markdown",
   "id": "4207df6d",
   "metadata": {},
   "source": [
    "#### Maintenant on remplit la matrice avec les informations du modèle"
   ]
  },
  {
   "cell_type": "code",
   "execution_count": 59,
   "id": "493e5d57",
   "metadata": {},
   "outputs": [],
   "source": [
    "for idx in range(len(texts)):\n",
    "    # Là on prend les scores pour ce texte\n",
    "    scores = lda_model[corpus[idx]]\n",
    "    # On obtient une liste de topics avec les scores\n",
    "    for topic_id, score in scores:\n",
    "        # On remplit la matrice aux bons endroits\n",
    "        heatmap.iloc[idx, topic_id] = score"
   ]
  },
  {
   "cell_type": "markdown",
   "id": "6dd71b23",
   "metadata": {},
   "source": [
    "### Ne reste plus qu'à faire une clustermap avec Seaborn"
   ]
  },
  {
   "cell_type": "code",
   "execution_count": 62,
   "id": "45412e15",
   "metadata": {},
   "outputs": [
    {
     "data": {
      "text/plain": [
       "<seaborn.matrix.ClusterGrid at 0x7f694056aa30>"
      ]
     },
     "execution_count": 62,
     "metadata": {},
     "output_type": "execute_result"
    },
    {
     "data": {
      "image/png": "[encoded data removed]",
      "text/plain": [
       "<Figure size 720x720 with 4 Axes>"
      ]
     },
     "metadata": {
      "needs_background": "light"
     },
     "output_type": "display_data"
    }
   ],
   "source": [
    "import seaborn as sns\n",
    "\n",
    "sns.clustermap(heatmap)"
   ]
  },
  {
   "cell_type": "code",
   "execution_count": null,
   "id": "1fc400eb",
   "metadata": {},
   "outputs": [],
   "source": []
  }
 ],
 "metadata": {
  "kernelspec": {
   "display_name": "Python 3",
   "language": "python",
   "name": "python3"
  },
  "language_info": {
   "codemirror_mode": {
    "name": "ipython",
    "version": 3
   },
   "file_extension": ".py",
   "mimetype": "text/x-python",
   "name": "python",
   "nbconvert_exporter": "python",
   "pygments_lexer": "ipython3",
   "version": "3.8.0"
  }
 },
 "nbformat": 4,
 "nbformat_minor": 5
}
